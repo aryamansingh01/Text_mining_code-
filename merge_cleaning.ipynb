{
 "cells": [
  {
   "cell_type": "code",
   "execution_count": 1,
   "metadata": {},
   "outputs": [],
   "source": [
    "import re\n",
    "\n",
    "def clean_text_remove_numbers_simple(text):\n",
    "    # Ensure text is a string\n",
    "    text = str(text)\n",
    "    \n",
    "    # Regex pattern to match words containing numbers\n",
    "    pattern = r'\\b\\w*\\d+\\w*\\b'\n",
    "    \n",
    "    # Replace words containing numbers with an empty string\n",
    "    cleaned_text = re.sub(pattern, '', text)\n",
    "    \n",
    "    # Remove extra spaces left after removal\n",
    "    cleaned_text = re.sub(r'\\s+', ' ', cleaned_text).strip()\n",
    "    \n",
    "    return cleaned_text\n"
   ]
  },
  {
   "cell_type": "code",
   "execution_count": null,
   "metadata": {},
   "outputs": [],
   "source": [
    "import pandas as pd\n",
    "\n",
    "# Example: Load your dataset\n",
    "#df = pd.read_csv('merged_data.csv')\n",
    "#df\n",
    "# Apply the cleaning function to your text column\n",
    "all_data = all_data.apply(clean_text_remove_numbers_simple)\n",
    "\n",
    "# The 'cleaned_text' column now contains the cleaned text data without words that contain numbers\n"
   ]
  },
  {
   "cell_type": "code",
   "execution_count": null,
   "metadata": {},
   "outputs": [],
   "source": [
    "import re\n",
    "\n",
    "def remove_internal_commas(text):\n",
    "    # Make sure the input is converted to string in case of non-string types\n",
    "    text = str(text)\n",
    "    pattern = r'(?<!^)(?<!\\.),'\n",
    "    cleaned_text = re.sub(pattern, '', text)\n",
    "    return cleaned_text\n"
   ]
  },
  {
   "cell_type": "code",
   "execution_count": null,
   "metadata": {},
   "outputs": [],
   "source": [
    "# Apply the function to each element in the Series\n",
    "all_data = all_data.apply(remove_internal_commas)\n"
   ]
  }
 ],
 "metadata": {
  "kernelspec": {
   "display_name": "Python 3",
   "language": "python",
   "name": "python3"
  },
  "language_info": {
   "codemirror_mode": {
    "name": "ipython",
    "version": 3
   },
   "file_extension": ".py",
   "mimetype": "text/x-python",
   "name": "python",
   "nbconvert_exporter": "python",
   "pygments_lexer": "ipython3",
   "version": "3.11.5"
  },
  "orig_nbformat": 4
 },
 "nbformat": 4,
 "nbformat_minor": 2
}
