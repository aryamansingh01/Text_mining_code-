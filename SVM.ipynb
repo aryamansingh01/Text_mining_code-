{
 "cells": [
  {
   "cell_type": "code",
   "execution_count": null,
   "metadata": {},
   "outputs": [],
   "source": [
    "import numpy as np\n",
    "import seaborn as sns\n",
    "import matplotlib.pyplot as plt\n",
    "import pandas as pd\n",
    "from sklearn.model_selection import train_test_split\n",
    "from sklearn.svm import SVC\n",
    "from sklearn.metrics import accuracy_score, classification_report, confusion_matrix\n",
    "from sklearn.preprocessing import StandardScaler\n"
   ]
  },
  {
   "cell_type": "code",
   "execution_count": 1,
   "metadata": {},
   "outputs": [
    {
     "name": "stdout",
     "output_type": "stream",
     "text": [
      "Accuracy - SVM: 0.75\n",
      "Classification Report - SVM: \n",
      "              precision    recall  f1-score   support\n",
      "\n",
      "           0       0.83      0.89      0.86        27\n",
      "           1       0.00      0.00      0.00         5\n",
      "\n",
      "    accuracy                           0.75        32\n",
      "   macro avg       0.41      0.44      0.43        32\n",
      "weighted avg       0.70      0.75      0.72        32\n",
      "\n",
      "Confusion Matrix - SVM: \n",
      "[[24  3]\n",
      " [ 5  0]]\n"
     ]
    }
   ],
   "source": [
    "\n",
    "\n",
    "data_path = 'final_countvectorize.csv'  \n",
    "data = pd.read_csv(data_path)\n",
    "\n",
    "y = data.iloc[:, 0]  \n",
    "X = data.iloc[:, 1:]  \n",
    "\n",
    "\n",
    "scaler = StandardScaler()\n",
    "X_scaled = scaler.fit_transform(X)\n",
    "\n",
    "\n",
    "X_train_scaled, X_test_scaled, y_train, y_test = train_test_split(X_scaled, y, test_size=0.2, random_state=42)\n",
    "\n",
    "svm_classifier = SVC(kernel='linear', random_state=42) \n",
    "\n",
    "\n",
    "svm_classifier.fit(X_train_scaled, y_train)\n",
    "\n",
    "y_pred_svm = svm_classifier.predict(X_test_scaled)\n",
    "\n",
    "accuracy_svm = accuracy_score(y_test, y_pred_svm)\n",
    "class_report_svm = classification_report(y_test, y_pred_svm)\n",
    "\n",
    "conf_matrix_svm = confusion_matrix(y_test, y_pred_svm)\n",
    "\n",
    "print(f'Accuracy - SVM: {accuracy_svm}')\n",
    "print(f'Classification Report - SVM: \\n{class_report_svm}')\n",
    "print(f'Confusion Matrix - SVM: \\n{conf_matrix_svm}')\n"
   ]
  },
  {
   "cell_type": "code",
   "execution_count": 6,
   "metadata": {},
   "outputs": [
    {
     "name": "stdout",
     "output_type": "stream",
     "text": [
      "Best Kernel: poly\n",
      "Best Cost: 0.1\n",
      "Best Accuracy: 0.84375\n",
      "Best Classification Report:\n",
      "              precision    recall  f1-score   support\n",
      "\n",
      "           0       0.84      1.00      0.92        27\n",
      "           1       0.00      0.00      0.00         5\n",
      "\n",
      "    accuracy                           0.84        32\n",
      "   macro avg       0.42      0.50      0.46        32\n",
      "weighted avg       0.71      0.84      0.77        32\n",
      "\n"
     ]
    },
    {
     "name": "stderr",
     "output_type": "stream",
     "text": [
      "/Library/Frameworks/Python.framework/Versions/3.11/lib/python3.11/site-packages/sklearn/metrics/_classification.py:1469: UndefinedMetricWarning: Precision and F-score are ill-defined and being set to 0.0 in labels with no predicted samples. Use `zero_division` parameter to control this behavior.\n",
      "  _warn_prf(average, modifier, msg_start, len(result))\n",
      "/Library/Frameworks/Python.framework/Versions/3.11/lib/python3.11/site-packages/sklearn/metrics/_classification.py:1469: UndefinedMetricWarning: Precision and F-score are ill-defined and being set to 0.0 in labels with no predicted samples. Use `zero_division` parameter to control this behavior.\n",
      "  _warn_prf(average, modifier, msg_start, len(result))\n",
      "/Library/Frameworks/Python.framework/Versions/3.11/lib/python3.11/site-packages/sklearn/metrics/_classification.py:1469: UndefinedMetricWarning: Precision and F-score are ill-defined and being set to 0.0 in labels with no predicted samples. Use `zero_division` parameter to control this behavior.\n",
      "  _warn_prf(average, modifier, msg_start, len(result))\n"
     ]
    },
    {
     "data": {
      "image/png": "[encoded data removed]",
      "text/plain": [
       "<Figure size 1000x700 with 2 Axes>"
      ]
     },
     "metadata": {},
     "output_type": "display_data"
    }
   ],
   "source": [
    "\n",
    "\n",
    "\n",
    "data_path = 'final_countvectorize.csv'\n",
    "data = pd.read_csv(data_path)\n",
    "\n",
    "y = data.iloc[:, 0]  \n",
    "X = data.iloc[:, 1:]  \n",
    "\n",
    "scaler = StandardScaler()\n",
    "X_scaled = scaler.fit_transform(X)\n",
    "\n",
    "X_train_scaled, X_test_scaled, y_train, y_test = train_test_split(X_scaled, y, test_size=0.2, random_state=42)\n",
    "\n",
    "kernels = ['linear', 'poly', 'rbf']\n",
    "costs = [0.1, 1, 10]\n",
    "best_accuracy = 0\n",
    "best_kernel = None\n",
    "best_cost = None\n",
    "best_cm = None\n",
    "best_svc = None\n",
    "\n",
    "for kernel in kernels:\n",
    "    for cost in costs:\n",
    "        svm_classifier = SVC(kernel=kernel, C=cost, random_state=42)\n",
    "        svm_classifier.fit(X_train_scaled, y_train)\n",
    "        y_pred_svm = svm_classifier.predict(X_test_scaled)\n",
    "        current_accuracy = accuracy_score(y_test, y_pred_svm)\n",
    "        \n",
    "        if current_accuracy > best_accuracy:\n",
    "            best_accuracy = current_accuracy\n",
    "            best_kernel = kernel\n",
    "            best_cost = cost\n",
    "            best_cm = confusion_matrix(y_test, y_pred_svm)\n",
    "            best_svc = svm_classifier\n",
    "\n",
    "\n",
    "print(f'Best Kernel: {best_kernel}')\n",
    "print(f'Best Cost: {best_cost}')\n",
    "print(f'Best Accuracy: {best_accuracy}')\n",
    "print(f'Best Classification Report:\\n{classification_report(y_test, best_svc.predict(X_test_scaled))}')\n",
    "\n",
    "\n",
    "plt.figure(figsize=(10, 7))\n",
    "sns.heatmap(best_cm, annot=True, fmt='g', cmap='Blues')\n",
    "plt.title(f'Best SVM Confusion Matrix (Kernel: {best_kernel}, Cost: {best_cost})')\n",
    "plt.xlabel('Predicted Labels')\n",
    "plt.ylabel('True Labels')\n",
    "plt.show()\n"
   ]
  },
  {
   "cell_type": "code",
   "execution_count": null,
   "metadata": {},
   "outputs": [],
   "source": []
  }
 ],
 "metadata": {
  "kernelspec": {
   "display_name": "Python 3",
   "language": "python",
   "name": "python3"
  },
  "language_info": {
   "codemirror_mode": {
    "name": "ipython",
    "version": 3
   },
   "file_extension": ".py",
   "mimetype": "text/x-python",
   "name": "python",
   "nbconvert_exporter": "python",
   "pygments_lexer": "ipython3",
   "version": "3.11.5"
  },
  "orig_nbformat": 4
 },
 "nbformat": 4,
 "nbformat_minor": 2
}
