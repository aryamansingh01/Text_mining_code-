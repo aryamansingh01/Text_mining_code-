{
 "cells": [
  {
   "cell_type": "code",
   "execution_count": 1,
   "metadata": {},
   "outputs": [],
   "source": [
    "import praw\n",
    "import datetime\n",
    "import csv\n",
    "import pandas as pd"
   ]
  },
  {
   "cell_type": "code",
   "execution_count": 2,
   "metadata": {},
   "outputs": [],
   "source": [
    "def extract_comment_texts(comment, comment_texts=[]):\n",
    "    comment_texts.append(comment.body)  # Add the current comment's text\n",
    "    if hasattr(comment, 'replies'):\n",
    "        replies = comment.replies\n",
    "        for reply in replies:\n",
    "            if isinstance(reply, praw.models.MoreComments):\n",
    "                continue\n",
    "            extract_comment_texts(reply, comment_texts)\n",
    "    return comment_texts\n",
    "\n"
   ]
  },
  {
   "cell_type": "code",
   "execution_count": 3,
   "metadata": {},
   "outputs": [],
   "source": [
    "def extract_submission_data(url, r):\n",
    "    submission_id = url.split(\"/\")[6]\n",
    "    submission = r.submission(id=submission_id)\n",
    "    comment_texts = []\n",
    "    submission.comments.replace_more(limit=0)  # Remove MoreComments for a flat comment list\n",
    "    for top_level_comment in submission.comments:\n",
    "        if hasattr(top_level_comment, 'body'):\n",
    "            extract_comment_texts(top_level_comment, comment_texts)\n",
    "    data = {\n",
    "        'title': submission.title,\n",
    "        'url': submission.url,\n",
    "        'author': str(submission.author),\n",
    "        'score': submission.score,\n",
    "        'created': datetime.datetime.fromtimestamp(submission.created),\n",
    "        'upvote_ratio': submission.upvote_ratio,\n",
    "        'comments': comment_texts\n",
    "    }\n",
    "    return data\n",
    "\n"
   ]
  },
  {
   "cell_type": "code",
   "execution_count": 4,
   "metadata": {},
   "outputs": [],
   "source": [
    "def save_data_to_csv(data, filename=\"reddit_post_data.csv\"):\n",
    "    headers = ['Title', 'URL', 'Author', 'Score', 'Created', 'Upvote Ratio', 'Comment']\n",
    "    with open(filename, mode='w', newline='', encoding='utf-8') as file:\n",
    "        writer = csv.writer(file)\n",
    "        writer.writerow(headers)\n",
    "        for comment in data['comments']:\n",
    "            writer.writerow([data['title'], data['url'], data['author'], data['score'],\n",
    "                             data['created'], data['upvote_ratio'], comment])\n",
    "    print(f\"Data saved to {filename}\")\n",
    "\n",
    "\n"
   ]
  },
  {
   "cell_type": "code",
   "execution_count": 5,
   "metadata": {},
   "outputs": [
    {
     "name": "stdout",
     "output_type": "stream",
     "text": [
      "Data saved to reddit_post_data.csv\n"
     ]
    }
   ],
   "source": [
    "user_agent = 'praw_scrapper_1.0'\n",
    "r = praw.Reddit(username=\"aryamansingh_01\",\n",
    "                password=\"MGHector@123\",\n",
    "                client_id=\"8DLeUw6itg-tBu7JS-7F0A\",\n",
    "                client_secret=\"-cRyC4b6uYURAWUilU2PbiGaeY2mkg\",\n",
    "                user_agent=user_agent)\n",
    "\n",
    "# The URL of the Reddit post\n",
    "reddit_url = \"https://www.reddit.com/r/unpopularopinion/comments/r0vvet/gas_cars_are_better_than_electric_cars/\"\n",
    "\n",
    "# Extracting the data\n",
    "post_data = extract_submission_data(reddit_url, r)\n",
    "\n",
    "# Saving the data to a CSV file\n",
    "save_data_to_csv(post_data)\n"
   ]
  },
  {
   "cell_type": "code",
   "execution_count": null,
   "metadata": {},
   "outputs": [],
   "source": []
  },
  {
   "cell_type": "code",
   "execution_count": 6,
   "metadata": {},
   "outputs": [
    {
     "name": "stdout",
     "output_type": "stream",
     "text": [
      "Cleaned data saved to comments_only.csv\n"
     ]
    }
   ],
   "source": [
    "df = pd.read_csv(\"reddit_post_data.csv\")\n",
    "\n",
    "# Keep only the 'Comment' column\n",
    "comments_only = df[['Comment']]\n",
    "\n",
    "# Save the cleaned data to a new CSV file\n",
    "comments_only.to_csv(\"comments_only.csv\", index=False)\n",
    "\n",
    "print(\"Cleaned data saved to comments_only.csv\")"
   ]
  },
  {
   "cell_type": "code",
   "execution_count": null,
   "metadata": {},
   "outputs": [],
   "source": []
  }
 ],
 "metadata": {
  "kernelspec": {
   "display_name": "Python 3",
   "language": "python",
   "name": "python3"
  },
  "language_info": {
   "codemirror_mode": {
    "name": "ipython",
    "version": 3
   },
   "file_extension": ".py",
   "mimetype": "text/x-python",
   "name": "python",
   "nbconvert_exporter": "python",
   "pygments_lexer": "ipython3",
   "version": "3.11.5"
  },
  "orig_nbformat": 4
 },
 "nbformat": 4,
 "nbformat_minor": 2
}
