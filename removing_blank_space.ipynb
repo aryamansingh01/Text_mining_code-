{
 "cells": [
  {
   "cell_type": "code",
   "execution_count": 3,
   "metadata": {},
   "outputs": [],
   "source": [
    "import csv\n",
    "\n",
    "input_file_path = 'merged_data.csv'  # Path to the input CSV file\n",
    "output_file_path = 'final_clean_Data.csv'  # Path to the output CSV file\n",
    "\n",
    "# Read data from the input file and remove blank spaces\n",
    "with open(input_file_path, mode='r', newline='', encoding='utf-8') as infile, \\\n",
    "        open(output_file_path, mode='w', newline='', encoding='utf-8') as outfile:\n",
    "    reader = csv.reader(infile)\n",
    "    writer = csv.writer(outfile)\n",
    "    \n",
    "    for row in reader:\n",
    "        # Process each cell in the row\n",
    "        processed_row = [cell.strip() for cell in row]  # Remove leading/trailing spaces\n",
    "        writer.writerow(processed_row)\n",
    "\n",
    "# Now, `output_file_path` contains the CSV data without the unwanted blank spaces.\n"
   ]
  },
  {
   "cell_type": "code",
   "execution_count": 2,
   "metadata": {},
   "outputs": [],
   "source": []
  },
  {
   "cell_type": "code",
   "execution_count": null,
   "metadata": {},
   "outputs": [],
   "source": []
  }
 ],
 "metadata": {
  "kernelspec": {
   "display_name": "Python 3",
   "language": "python",
   "name": "python3"
  },
  "language_info": {
   "codemirror_mode": {
    "name": "ipython",
    "version": 3
   },
   "file_extension": ".py",
   "mimetype": "text/x-python",
   "name": "python",
   "nbconvert_exporter": "python",
   "pygments_lexer": "ipython3",
   "version": "3.11.5"
  },
  "orig_nbformat": 4
 },
 "nbformat": 4,
 "nbformat_minor": 2
}
