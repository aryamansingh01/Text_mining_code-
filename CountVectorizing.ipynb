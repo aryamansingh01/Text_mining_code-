{
 "cells": [
  {
   "cell_type": "code",
   "execution_count": 23,
   "metadata": {},
   "outputs": [],
   "source": [
    "from sklearn.feature_extraction.text import CountVectorizer\n",
    "import pandas as pd\n",
    "\n",
    "# Sample text data\n",
    "\n",
    "text_data = pd.read_csv(\"CNBC_clean_data.csv\",skiprows=1)\n",
    "\n",
    "#text_data = ['There is a boom in electric vehicle sales.',\n",
    "       #      'Many consumers are concerned about the high costs.',\n",
    "    #         'Electric vehicles are cheaper in the long run.']\n",
    "\n",
    "# Instantiate CountVectorizer\n"
   ]
  },
  {
   "cell_type": "code",
   "execution_count": 24,
   "metadata": {},
   "outputs": [
    {
     "name": "stdout",
     "output_type": "stream",
     "text": [
      "   000  10  100  12  13  14  15  200  2020  2021  ...  worth  wouldn  xa0  \\\n",
      "0   15   1    1   2   1   1   2    3     1     2  ...      1       2    1   \n",
      "\n",
      "   xa0koiguo  xa0many  xa0potential  year  years  yes  yield  \n",
      "0          1        1             1     5      2    1      1  \n",
      "\n",
      "[1 rows x 535 columns]\n"
     ]
    }
   ],
   "source": [
    "vectorizer = CountVectorizer(stop_words='english')\n",
    "\n",
    "# Fit and transform the data\n",
    "feature_matrix = vectorizer.fit_transform(text_data)\n",
    "\n",
    "# Convert to DataFrame\n",
    "feature_df = pd.DataFrame(feature_matrix.toarray(), \n",
    "                          columns=vectorizer.get_feature_names_out())\n",
    "\n",
    "print(feature_df)\n"
   ]
  },
  {
   "cell_type": "code",
   "execution_count": 25,
   "metadata": {},
   "outputs": [],
   "source": [
    "output_file_path = 'CNBC_countvectorize.csv'  # Update this to your desired output file path\n",
    "\n",
    "# Save the DataFrame to a CSV file\n",
    "feature_df.to_csv(output_file_path, index=False)"
   ]
  },
  {
   "cell_type": "code",
   "execution_count": null,
   "metadata": {},
   "outputs": [],
   "source": []
  }
 ],
 "metadata": {
  "kernelspec": {
   "display_name": "Python 3",
   "language": "python",
   "name": "python3"
  },
  "language_info": {
   "codemirror_mode": {
    "name": "ipython",
    "version": 3
   },
   "file_extension": ".py",
   "mimetype": "text/x-python",
   "name": "python",
   "nbconvert_exporter": "python",
   "pygments_lexer": "ipython3",
   "version": "3.11.5"
  },
  "orig_nbformat": 4
 },
 "nbformat": 4,
 "nbformat_minor": 2
}
